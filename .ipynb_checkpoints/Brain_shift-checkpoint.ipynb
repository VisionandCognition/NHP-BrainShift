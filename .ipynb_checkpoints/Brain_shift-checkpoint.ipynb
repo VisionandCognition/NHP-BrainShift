{
 "cells": [
  {
   "cell_type": "markdown",
   "id": "1c0740b2",
   "metadata": {},
   "source": [
    "# BrainShift     \n",
    "This project investigate the longitudinal changes in brain position for macaques that are repeatedly scanned. This is done for a collaboration between the NIN and IMEC, aimed at developing wireless tools for brain recording and stimulation.\n",
    "\n",
    "Chris Klink (c.klink@nin.knaw.nl)\n",
    "Yao-Hong Liu (Yao-Hong.Liu@imec.nl)"
   ]
  },
  {
   "cell_type": "markdown",
   "id": "c7b958bb",
   "metadata": {},
   "source": [
    "## Requirements    \n",
    "This Jupyter notebook runs on Python 3 and uses [nipype](https://nipype.readthedocs.io/en/latest/#) to communicate with the following neuroimaging packages (should be installed):     \n",
    "- \n"
   ]
  },
  {
   "cell_type": "markdown",
   "id": "cd132a11",
   "metadata": {},
   "source": [
    "## Strategy\n",
    "The main approach is as follows.    \n",
    "\n",
    "### Input\n",
    "The `input` folder contains T1w scans from 2 monkey subjects acquired over a period of ~4 years.    \n",
    "\n",
    "### Processing    \n",
    "This notebook will take several steps to investigate potential shifts:\n",
    "1) Rigidly align the within-subject scans and save the result in the `aligned` folder     \n",
    "2) Extract date from file-names     \n",
    "3) Define a measure to look at\n",
    "    - Discuss with Yao-Hong what would be a sensible measure    \n",
    "    - Manual annotation seems inevitable\n",
    "4) Plot temporal variation in this measure      \n",
    "\n",
    "### Output    \n",
    "Save the results in a sensible format"
   ]
  },
  {
   "cell_type": "markdown",
   "id": "df1573dc",
   "metadata": {},
   "source": [
    "## Step 1: Input    \n",
    "Here we get the filenames and generate lists that we can later use in the alignment step."
   ]
  },
  {
   "cell_type": "code",
   "execution_count": null,
   "id": "d7456470",
   "metadata": {},
   "outputs": [],
   "source": []
  },
  {
   "cell_type": "markdown",
   "id": "2ccca00c",
   "metadata": {},
   "source": [
    "## Step 2: Align     \n",
    "Rigidly align within-subject."
   ]
  },
  {
   "cell_type": "code",
   "execution_count": null,
   "id": "ce0882f8",
   "metadata": {},
   "outputs": [],
   "source": []
  },
  {
   "cell_type": "markdown",
   "id": "32745909",
   "metadata": {},
   "source": [
    "## Step 3: Define a metric     \n",
    "In order to estimate brain shifts we need a metric to look at over time."
   ]
  },
  {
   "cell_type": "code",
   "execution_count": null,
   "id": "4a597a1c",
   "metadata": {},
   "outputs": [],
   "source": []
  },
  {
   "cell_type": "markdown",
   "id": "c5328ceb",
   "metadata": {},
   "source": [
    "## Step 4: Extract metric and plot its variation over time      \n",
    "This will indicate how much variation there will be in brain position."
   ]
  },
  {
   "cell_type": "code",
   "execution_count": null,
   "id": "6ab31c4d",
   "metadata": {},
   "outputs": [],
   "source": []
  },
  {
   "cell_type": "markdown",
   "id": "752a5004",
   "metadata": {},
   "source": [
    "## Step 5: Save results"
   ]
  },
  {
   "cell_type": "code",
   "execution_count": null,
   "id": "0b2adb8e",
   "metadata": {},
   "outputs": [],
   "source": []
  }
 ],
 "metadata": {
  "kernelspec": {
   "display_name": "Python 3",
   "language": "python",
   "name": "python3"
  },
  "language_info": {
   "codemirror_mode": {
    "name": "ipython",
    "version": 3
   },
   "file_extension": ".py",
   "mimetype": "text/x-python",
   "name": "python",
   "nbconvert_exporter": "python",
   "pygments_lexer": "ipython3",
   "version": "3.7.10"
  }
 },
 "nbformat": 4,
 "nbformat_minor": 5
}
