{
 "cells": [
  {
   "cell_type": "markdown",
   "id": "e6cddaff",
   "metadata": {},
   "source": [
    "# BrainShift     \n",
    "This project investigate the longitudinal changes in brain position for macaques that are repeatedly scanned. This is done for a collaboration between the NIN and IMEC, aimed at developing wireless tools for brain recording and stimulation.\n",
    "\n",
    "Chris Klink (c.klink@nin.knaw.nl)\n",
    "Yao-Hong Liu (Yao-Hong.Liu@imec.nl)"
   ]
  },
  {
   "cell_type": "markdown",
   "id": "ed93a9e3",
   "metadata": {},
   "source": [
    "## Requirements    \n",
    "This Jupyter notebook runs on Python 3 and uses [nipype](https://nipype.readthedocs.io/en/latest/#) to communicate with the following neuroimaging packages (should be installed):     \n",
    "- \n"
   ]
  },
  {
   "cell_type": "markdown",
   "id": "7149b5de",
   "metadata": {},
   "source": [
    "## Strategy\n",
    "The main approach is as follows.    \n",
    "\n",
    "### Input\n",
    "The `input` folder contains T1w scans from 2 monkey subjects acquired over a period of ~4 years.    \n",
    "\n",
    "### Processing    \n",
    "This notebook will take several steps to investigate potential shifts:\n",
    "1) Rigidly align the within-subject scans and save the result in the `aligned` folder     \n",
    "2) Extract date from file-names     \n",
    "3) Define a measure to look at\n",
    "    - Discuss with Yao-Hong what would be a sensible measure    \n",
    "    - Manual annotation seems inevitable\n",
    "4) Plot temporal variation in this measure      \n",
    "\n",
    "### Output    \n",
    "Save the results in a sensible format"
   ]
  },
  {
   "cell_type": "markdown",
   "id": "da0fdb00",
   "metadata": {},
   "source": [
    "## Step 1: Input    \n",
    "Here we get the filenames and generate lists that we can later use in the alignment step."
   ]
  },
  {
   "cell_type": "code",
   "execution_count": null,
   "id": "8c017184",
   "metadata": {},
   "outputs": [],
   "source": [
    "subs = {'danny', 'eddy'}"
   ]
  },
  {
   "cell_type": "markdown",
   "id": "e33d208a",
   "metadata": {},
   "source": [
    "## Step 2: Align     \n",
    "Rigidly align within-subject."
   ]
  },
  {
   "cell_type": "code",
   "execution_count": null,
   "id": "58ab38c0",
   "metadata": {},
   "outputs": [],
   "source": []
  },
  {
   "cell_type": "markdown",
   "id": "9bb24581",
   "metadata": {},
   "source": [
    "## Step 3: Define a metric     \n",
    "In order to estimate brain shifts we need a metric to look at over time."
   ]
  },
  {
   "cell_type": "code",
   "execution_count": null,
   "id": "17eee922",
   "metadata": {},
   "outputs": [],
   "source": []
  },
  {
   "cell_type": "markdown",
   "id": "36669f8a",
   "metadata": {},
   "source": [
    "## Step 4: Extract metric and plot its variation over time      \n",
    "This will indicate how much variation there will be in brain position."
   ]
  },
  {
   "cell_type": "code",
   "execution_count": null,
   "id": "c91988cd",
   "metadata": {},
   "outputs": [],
   "source": []
  },
  {
   "cell_type": "markdown",
   "id": "1b55ca9c",
   "metadata": {},
   "source": [
    "## Step 5: Save results"
   ]
  },
  {
   "cell_type": "code",
   "execution_count": null,
   "id": "c9522a8a",
   "metadata": {},
   "outputs": [],
   "source": []
  }
 ],
 "metadata": {
  "kernelspec": {
   "display_name": "Python 3",
   "language": "python",
   "name": "python3"
  },
  "language_info": {
   "codemirror_mode": {
    "name": "ipython",
    "version": 3
   },
   "file_extension": ".py",
   "mimetype": "text/x-python",
   "name": "python",
   "nbconvert_exporter": "python",
   "pygments_lexer": "ipython3",
   "version": "3.7.10"
  }
 },
 "nbformat": 4,
 "nbformat_minor": 5
}
