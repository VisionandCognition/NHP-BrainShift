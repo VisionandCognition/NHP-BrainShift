{
 "cells": [
  {
   "cell_type": "markdown",
   "id": "6e360706",
   "metadata": {},
   "source": [
    "# BrainShift     \n",
    "This project investigate the longitudinal changes in brain position for macaques that are repeatedly scanned. This is done for a collaboration between the NIN and IMEC, aimed at developing wireless tools for brain recording and stimulation.\n",
    "\n",
    "Chris Klink (c.klink@nin.knaw.nl)\n",
    "Yao-Hong Liu (Yao-Hong.Liu@imec.nl)"
   ]
  },
  {
   "cell_type": "markdown",
   "id": "62adafd4",
   "metadata": {},
   "source": [
    "## Requirements    \n",
    "This Jupyter notebook runs on Python 3 and uses [nipype](https://nipype.readthedocs.io/en/latest/#) to communicate with the following neuroimaging packages (should be installed):     \n",
    "- \n"
   ]
  },
  {
   "cell_type": "markdown",
   "id": "26199d82",
   "metadata": {},
   "source": [
    "## Strategy\n",
    "The main approach is as follows.    \n",
    "\n",
    "### Input\n",
    "The `input` folder contains T1w scans from 2 monkey subjects acquired over a period of ~4 years.    \n",
    "\n",
    "### Processing    \n",
    "This notebook will take several steps to investigate potential shifts:\n",
    "1) Rigidly align the within-subject scans and save the result in the `aligned` folder     \n",
    "2) Extract date from file-names     \n",
    "3) Define a measure to look at\n",
    "    - Discuss with Yao-Hong what would be a sensible measure    \n",
    "    - Manual annotation seems inevitable\n",
    "4) Plot temporal variation in this measure      \n",
    "\n",
    "### Output    \n",
    "Save the results in a sensible format"
   ]
  },
  {
   "cell_type": "code",
   "execution_count": null,
   "id": "6fcb481c",
   "metadata": {},
   "outputs": [],
   "source": [
    "import os\n",
    "import glob\n",
    "#import time\n",
    "import shutil as sh\n",
    "#import nibabel as nb\n",
    "\n",
    "from itertools import combinations\n",
    "#from matplotlib import pyplot as plt\n",
    "\n",
    "import nipype.interfaces.fsl as fsl # nipype interface for FSL\n",
    "import nipype.interfaces.afni as afni # nipype interface for AFNI\n",
    "import nipype.interfaces.ants as ants # nipype interface for ANTs\n",
    "from nilearn.plotting import plot_anat # Plotting function from nilearn"
   ]
  },
  {
   "cell_type": "markdown",
   "id": "25b05b62",
   "metadata": {},
   "source": [
    "## Step 1: Input    \n",
    "Here we get the filenames and generate lists that we can later use in the alignment step."
   ]
  },
  {
   "cell_type": "code",
   "execution_count": null,
   "id": "0dc57f9f",
   "metadata": {},
   "outputs": [],
   "source": [
    "do_parallel = True # Set to True for parallel processing\n",
    "par_numjobs = 5     # How many parallel processes? This is only used when do_parallel is True\n",
    "if do_parallel is True:\n",
    "    from joblib import Parallel, delayed"
   ]
  },
  {
   "cell_type": "code",
   "execution_count": null,
   "id": "867310e8",
   "metadata": {},
   "outputs": [],
   "source": [
    "subs = {'danny', 'eddy'}"
   ]
  },
  {
   "cell_type": "markdown",
   "id": "46c9a4ae",
   "metadata": {},
   "source": [
    "## Step 2: Align     \n",
    "Rigidly align within-subject."
   ]
  },
  {
   "cell_type": "code",
   "execution_count": null,
   "id": "e62ff243",
   "metadata": {},
   "outputs": [],
   "source": []
  },
  {
   "cell_type": "markdown",
   "id": "e90b3b19",
   "metadata": {},
   "source": [
    "## Step 3: Define a metric     \n",
    "In order to estimate brain shifts we need a metric to look at over time."
   ]
  },
  {
   "cell_type": "code",
   "execution_count": null,
   "id": "dfd91ccd",
   "metadata": {},
   "outputs": [],
   "source": []
  },
  {
   "cell_type": "markdown",
   "id": "c3600a12",
   "metadata": {},
   "source": [
    "## Step 4: Extract metric and plot its variation over time      \n",
    "This will indicate how much variation there will be in brain position."
   ]
  },
  {
   "cell_type": "code",
   "execution_count": null,
   "id": "c0d8f87d",
   "metadata": {},
   "outputs": [],
   "source": []
  },
  {
   "cell_type": "markdown",
   "id": "e0b1b16e",
   "metadata": {},
   "source": [
    "## Step 5: Save results"
   ]
  },
  {
   "cell_type": "code",
   "execution_count": null,
   "id": "48469402",
   "metadata": {},
   "outputs": [],
   "source": []
  }
 ],
 "metadata": {
  "kernelspec": {
   "display_name": "Python 3",
   "language": "python",
   "name": "python3"
  },
  "language_info": {
   "codemirror_mode": {
    "name": "ipython",
    "version": 3
   },
   "file_extension": ".py",
   "mimetype": "text/x-python",
   "name": "python",
   "nbconvert_exporter": "python",
   "pygments_lexer": "ipython3",
   "version": "3.7.10"
  }
 },
 "nbformat": 4,
 "nbformat_minor": 5
}
