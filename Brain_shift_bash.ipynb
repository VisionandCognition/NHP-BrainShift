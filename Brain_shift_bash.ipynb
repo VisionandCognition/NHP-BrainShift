{
 "cells": [
  {
   "cell_type": "markdown",
   "id": "f456d836",
   "metadata": {},
   "source": [
    "# BrainShift     \n",
    "This project investigate the longitudinal changes in brain position for macaques that are repeatedly scanned. This is done for a collaboration between the NIN and IMEC, aimed at developing wireless tools for brain recording and stimulation.\n",
    "\n",
    "Chris Klink (c.klink@nin.knaw.nl)\n",
    "Yao-Hong Liu (Yao-Hong.Liu@imec.nl)"
   ]
  },
  {
   "cell_type": "markdown",
   "id": "b4b08202",
   "metadata": {},
   "source": [
    "## Requirements    \n",
    "This Jupyter notebook runs `bash` using modulaes from [freesurfer](https://surfer.nmr.mgh.harvard.edu/) and [fsl](https://fsl.fmrib.ox.ac.uk/fsl/fslwiki/FSL)"
   ]
  },
  {
   "cell_type": "markdown",
   "id": "e04a3a79",
   "metadata": {},
   "source": [
    "## Strategy\n",
    "The main approach is as follows.    \n",
    "\n",
    "### Input\n",
    "The `input` folder contains T1w scans from 2 monkey subjects acquired over a period of ~4 years.    \n",
    "\n",
    "### Processing    \n",
    "This notebook will take several steps to investigate potential shifts:\n",
    "1) Normalize/uniformize all scans     \n",
    "2) Generate the motion corrected average     \n",
    "3) Align each unform scan to the average     \n",
    "4) Generate concatenated 4d file without alignment       \n",
    "5) Define a measure to look at\n",
    "    - Discuss with Yao-Hong what would be a sensible measure    \n",
    "    - Manual annotation seems inevitable\n",
    "\n",
    "### Output    \n",
    "Save the results in a sensible format"
   ]
  },
  {
   "cell_type": "markdown",
   "id": "b0e1a699-7a1c-41c5-b2bb-e854e2bc2fdc",
   "metadata": {},
   "source": [
    "## Step 0: Configure     "
   ]
  },
  {
   "cell_type": "code",
   "execution_count": null,
   "id": "e324a4b5-96fc-4987-96f7-1377eaea0373",
   "metadata": {},
   "outputs": [],
   "source": [
    "rootfld=$HOME'/Documents/MRI_ANALYSIS/NHP-BrainShift'\n",
    "datafld=$HOME'/Dropbox/CURRENT_PROJECTS/NHP_MRI/Projects/BrainShift'"
   ]
  },
  {
   "cell_type": "code",
   "execution_count": null,
   "id": "258e5d32-66c0-4c1b-9661-bb5aa6c7d228",
   "metadata": {},
   "outputs": [],
   "source": [
    "#SUB='danny'\n",
    "SUB='eddy'"
   ]
  },
  {
   "cell_type": "markdown",
   "id": "735309b3",
   "metadata": {},
   "source": [
    "## Step 1: Normalize individual scans    "
   ]
  },
  {
   "cell_type": "code",
   "execution_count": null,
   "id": "bb3d3dfd",
   "metadata": {
    "tags": []
   },
   "outputs": [],
   "source": [
    "cd $datafld/input/sub-$SUB\n",
    "\n",
    "# normalize individual scans\n",
    "mkdir -p $datafld/normalized/sub-$SUB\n",
    "for f in *.nii.gz; do\n",
    "\techo $f\n",
    "\tmri_nu_correct.mni --i $f --o $datafld/normalized/sub-$SUB/nu_$f --distance 24\n",
    "done "
   ]
  },
  {
   "cell_type": "markdown",
   "id": "628b40df-f648-404b-ae16-291287349100",
   "metadata": {},
   "source": [
    "## Step 2: Motion corrected average"
   ]
  },
  {
   "cell_type": "code",
   "execution_count": null,
   "id": "2c8df73c-7e8d-4139-8ee7-99bcc40a5feb",
   "metadata": {
    "tags": []
   },
   "outputs": [],
   "source": [
    "# get the motion corrected average\n",
    "mkdir -p $datafld/aligned/sub-$SUB\n",
    "cd $datafld/normalized/sub-$SUB\n",
    "mri_motion_correct2 -o $datafld/aligned/sub-$SUB/avg_sub-$SUB.nii.gz -wild *.nii.gz\n",
    "rm $datafld/aligned/sub-$SUB/*.xfm"
   ]
  },
  {
   "cell_type": "markdown",
   "id": "b356f3a9-e622-4085-b54e-e634c87aac16",
   "metadata": {},
   "source": [
    "## Step 3: Align each volume to average"
   ]
  },
  {
   "cell_type": "code",
   "execution_count": null,
   "id": "0336c12f-fe94-4504-897d-e89775a34303",
   "metadata": {},
   "outputs": [],
   "source": [
    "# align template to get mask\n",
    "flirt -in $datafld/mask/sub-$SUB/sub-${SUB}_ref_anat_res-0.5x0.5x0.5.nii.gz \\\n",
    "\t-ref $datafld/aligned/sub-$SUB/avg_sub-$SUB.nii.gz \\\n",
    "\t-omat $datafld/mask/sub-$SUB/mask2avg.mat"
   ]
  },
  {
   "cell_type": "code",
   "execution_count": null,
   "id": "3a2c355d-6d37-4fb7-bc6b-e795e48bcea0",
   "metadata": {},
   "outputs": [],
   "source": [
    "# register mask\n",
    "flirt -in $datafld/mask/sub-$SUB/sub-${SUB}_ref_anat_mask_res-0.5x0.5x0.5.nii.gz \\\n",
    "\t-ref $datafld/aligned/sub-$SUB/avg_sub-$SUB.nii.gz \\\n",
    "\t-out $datafld/aligned/sub-$SUB/bm_sub-$SUB.nii.gz \\\n",
    "\t-applyxfm -init $datafld/mask/sub-$SUB/mask2avg.mat"
   ]
  },
  {
   "cell_type": "code",
   "execution_count": null,
   "id": "a26991bd-80f0-491d-a834-c88060f968e8",
   "metadata": {
    "tags": []
   },
   "outputs": [],
   "source": [
    "# align each volume rigidly to the average\n",
    "cd $datafld/normalized/sub-$SUB\n",
    "for f in *.nii.gz; do\n",
    "\techo $f\n",
    "\tflirt -refweight $datafld/aligned/sub-$SUB/bm_sub-$SUB.nii.gz -dof 6 \\\n",
    "        -in $f -ref $datafld/aligned/sub-$SUB/avg_sub-$SUB.nii.gz -out $datafld/aligned/sub-$SUB/al_$f \n",
    "done"
   ]
  },
  {
   "cell_type": "markdown",
   "id": "cf674324-debd-4844-9dcb-51e9536a237c",
   "metadata": {},
   "source": [
    "## Step 4: Generate 4d concatenated volume (aligned)"
   ]
  },
  {
   "cell_type": "code",
   "execution_count": null,
   "id": "54a48cb1-5bbe-4267-853d-2da9a7073d77",
   "metadata": {},
   "outputs": [],
   "source": [
    "# generate a 4d volume\n",
    "mkdir -p $datafld/4d\n",
    "fslmerge -t $datafld/4d/4d_al_sub-$SUB.nii.gz $datafld/aligned/sub-$SUB/al_*.nii.gz"
   ]
  }
 ],
 "metadata": {
  "kernelspec": {
   "display_name": "Bash",
   "language": "bash",
   "name": "bash"
  },
  "language_info": {
   "codemirror_mode": "shell",
   "file_extension": ".sh",
   "mimetype": "text/x-sh",
   "name": "bash"
  }
 },
 "nbformat": 4,
 "nbformat_minor": 5
}
